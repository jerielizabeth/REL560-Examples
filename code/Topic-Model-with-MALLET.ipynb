{
 "cells": [
  {
   "cell_type": "code",
   "execution_count": null,
   "id": "459111dd",
   "metadata": {},
   "outputs": [],
   "source": [
    "# Lesson from Intro to Cultural Analytics - https://melaniewalsh.github.io/Intro-Cultural-Analytics/05-Text-Analysis/08-Topic-Modeling-Text-Files.html"
   ]
  },
  {
   "cell_type": "code",
   "execution_count": null,
   "id": "2fd564bf",
   "metadata": {},
   "outputs": [],
   "source": [
    "path_to_mallet = \"/Users/jeriwieringa/mallet-2.0.8/bin/mallet\""
   ]
  },
  {
   "cell_type": "code",
   "execution_count": null,
   "id": "fd5da81e",
   "metadata": {},
   "outputs": [],
   "source": [
    "import little_mallet_wrapper\n",
    "import seaborn\n",
    "import glob\n",
    "from pathlib import Path"
   ]
  },
  {
   "cell_type": "code",
   "execution_count": null,
   "id": "05ffb4a4",
   "metadata": {},
   "outputs": [],
   "source": [
    "directory = \"../data/Example_texts/history/NYT-Obituaries/\""
   ]
  },
  {
   "cell_type": "code",
   "execution_count": null,
   "id": "5aa85ea5",
   "metadata": {},
   "outputs": [],
   "source": [
    "files = glob.glob(f\"{directory}/*.txt\")"
   ]
  },
  {
   "cell_type": "code",
   "execution_count": null,
   "id": "7a2af8fc",
   "metadata": {},
   "outputs": [],
   "source": [
    "files"
   ]
  },
  {
   "cell_type": "code",
   "execution_count": null,
   "id": "e2937991",
   "metadata": {},
   "outputs": [],
   "source": [
    "help(little_mallet_wrapper)"
   ]
  },
  {
   "cell_type": "code",
   "execution_count": null,
   "id": "405dada8",
   "metadata": {},
   "outputs": [],
   "source": [
    "help(glob)"
   ]
  },
  {
   "cell_type": "code",
   "execution_count": null,
   "id": "df61ad86",
   "metadata": {
    "scrolled": true
   },
   "outputs": [],
   "source": [
    "import pandas\n",
    "help(pandas.DataFrame)"
   ]
  },
  {
   "cell_type": "markdown",
   "id": "22ea17c8",
   "metadata": {},
   "source": [
    "Documentation for Little Mallet Wrapper - https://github.com/maria-antoniak/little-mallet-wrapper"
   ]
  },
  {
   "cell_type": "code",
   "execution_count": null,
   "id": "99c1d8f1",
   "metadata": {},
   "outputs": [],
   "source": [
    "training_data = []\n",
    "\n",
    "for file in files:\n",
    "    with open(file, encoding=\"utf-8\") as f:\n",
    "        text = f.read()\n",
    "    processed_text = little_mallet_wrapper.process_string(text, numbers=\"remove\")\n",
    "    training_data.append(processed_text)"
   ]
  },
  {
   "cell_type": "code",
   "execution_count": null,
   "id": "e1a19ef9",
   "metadata": {},
   "outputs": [],
   "source": [
    "original_texts = []\n",
    "\n",
    "for file in files:\n",
    "    with open(file, encoding=\"utf-8\") as f:\n",
    "        text = f.read()\n",
    "    original_texts.append(text)"
   ]
  },
  {
   "cell_type": "code",
   "execution_count": null,
   "id": "23f8b63e",
   "metadata": {},
   "outputs": [],
   "source": [
    "obit_titles = [Path(file).stem for file in files]"
   ]
  },
  {
   "cell_type": "code",
   "execution_count": null,
   "id": "7fe47220",
   "metadata": {},
   "outputs": [],
   "source": [
    "obit_titles"
   ]
  },
  {
   "cell_type": "markdown",
   "id": "9337a7c6",
   "metadata": {},
   "source": [
    "# Create the Model of Topics"
   ]
  },
  {
   "cell_type": "code",
   "execution_count": null,
   "id": "06e0dbf8",
   "metadata": {},
   "outputs": [],
   "source": [
    "little_mallet_wrapper.print_dataset_stats(training_data)"
   ]
  },
  {
   "cell_type": "code",
   "execution_count": null,
   "id": "6711a384",
   "metadata": {},
   "outputs": [],
   "source": [
    "num_topics = 15\n",
    "training_data = training_data"
   ]
  },
  {
   "cell_type": "code",
   "execution_count": null,
   "id": "fd3ed519",
   "metadata": {},
   "outputs": [],
   "source": [
    "output_directory_path = '../data/outputs/topic-model-output/NYT-Obit'"
   ]
  },
  {
   "cell_type": "code",
   "execution_count": null,
   "id": "2f55a790",
   "metadata": {},
   "outputs": [],
   "source": [
    "# First create the output directory if it does not already exist\n",
    "\n",
    "Path(f\"{output_directory_path}\").mkdir(parents=True, exist_ok=True)\n",
    "\n",
    "# Then create paths for all of the files Mallet will output\n",
    "\n",
    "path_to_training_data = f\"{output_directory_path}/training.txt\"\n",
    "path_to_formatted_training_data = f\"{output_directory_path}/mallet.training\"\n",
    "path_to_model = f\"{output_directory_path}/mallet.model.{str(num_topics)}\"\n",
    "path_to_topic_keys = f\"{output_directory_path}/mallet.topic_keys.{str(num_topics)}\"\n",
    "path_to_topic_distributions = f\"{output_directory_path}/mallet.topic_distributions.{str(num_topics)}\""
   ]
  },
  {
   "cell_type": "code",
   "execution_count": null,
   "id": "147aca88",
   "metadata": {},
   "outputs": [],
   "source": [
    "little_mallet_wrapper.quick_train_topic_model(path_to_mallet, \n",
    "                                             output_directory_path,\n",
    "                                             num_topics,\n",
    "                                             training_data)"
   ]
  },
  {
   "cell_type": "markdown",
   "id": "d6d6edb3",
   "metadata": {},
   "source": [
    "# View Results"
   ]
  },
  {
   "cell_type": "code",
   "execution_count": null,
   "id": "9dea0eb9",
   "metadata": {},
   "outputs": [],
   "source": [
    "topics = little_mallet_wrapper.load_topic_keys(path_to_topic_keys)"
   ]
  },
  {
   "cell_type": "code",
   "execution_count": null,
   "id": "0e93196e",
   "metadata": {},
   "outputs": [],
   "source": [
    "for topic_number, topic in enumerate(topics):\n",
    "    print(f\"🌟 Topic {topic_number} 🌟\\n\\n{topic}\\n\")"
   ]
  },
  {
   "cell_type": "code",
   "execution_count": null,
   "id": "1be792bf",
   "metadata": {},
   "outputs": [],
   "source": [
    "topic_distributions = little_mallet_wrapper.load_topic_distributions(path_to_topic_distributions)"
   ]
  },
  {
   "cell_type": "code",
   "execution_count": null,
   "id": "de7dbd38",
   "metadata": {},
   "outputs": [],
   "source": [
    "topic_distributions[32]"
   ]
  },
  {
   "cell_type": "code",
   "execution_count": null,
   "id": "1c585445",
   "metadata": {},
   "outputs": [],
   "source": [
    "obituary_to_check = \"1962-Marilyn-Monroe\"\n",
    "\n",
    "obit_number = obit_titles.index(obituary_to_check)"
   ]
  },
  {
   "cell_type": "code",
   "execution_count": null,
   "id": "280a6bef",
   "metadata": {},
   "outputs": [],
   "source": [
    "print(f\"Topic Distributions for {obit_titles[obit_number]}\\n\")\n",
    "for topic_number, (topic, topic_distribution) in enumerate(zip(topics, topic_distributions[obit_number])):\n",
    "    print(f\"🌟Topic {topic_number} {topic[:6]} 🌟\\nProbability: {round(topic_distribution, 3)}\\n\")"
   ]
  },
  {
   "cell_type": "markdown",
   "id": "b5f60c0e",
   "metadata": {},
   "source": [
    "# Visualize Result"
   ]
  },
  {
   "cell_type": "code",
   "execution_count": null,
   "id": "a5eb5456",
   "metadata": {},
   "outputs": [],
   "source": [
    "import random\n",
    "target_labels = random.sample(obit_titles, 10)"
   ]
  },
  {
   "cell_type": "code",
   "execution_count": null,
   "id": "9cbb91ba",
   "metadata": {},
   "outputs": [],
   "source": [
    "little_mallet_wrapper.plot_categories_by_topics_heatmap(obit_titles,\n",
    "                                                       topic_distributions,\n",
    "                                                       topics,\n",
    "                                                       output_directory_path + '/categories_by_topics.pdf',\n",
    "                                                       target_labels=target_labels,\n",
    "                                                       dim= (13,9)\n",
    "                                                       )"
   ]
  },
  {
   "cell_type": "markdown",
   "id": "e630bc2a",
   "metadata": {},
   "source": [
    "# Display top titles per topic"
   ]
  },
  {
   "cell_type": "code",
   "execution_count": null,
   "id": "b8f67dac",
   "metadata": {},
   "outputs": [],
   "source": [
    "training_data_obit_titles = dict(zip(training_data, obit_titles))\n",
    "training_data_original_text = dict(zip(training_data, original_texts))"
   ]
  },
  {
   "cell_type": "code",
   "execution_count": null,
   "id": "eef6d7b7",
   "metadata": {},
   "outputs": [],
   "source": [
    "def display_top_titles_per_topic(topic_number=0, number_of_documents=5):\n",
    "    print(f\"🌟Topic {topic_number}🌟\\n\\n{topics[topic_number]}\\n\")\n",
    "    \n",
    "    for probability,document in little_mallet_wrapper.get_top_docs(training_data, topic_distributions, topic_number, n=number_of_documents):\n",
    "        print(round(probability, 4), training_data_obit_titles[document] + \"\\n\")\n",
    "    return"
   ]
  },
  {
   "cell_type": "code",
   "execution_count": null,
   "id": "5832b2db",
   "metadata": {},
   "outputs": [],
   "source": [
    "display_top_titles_per_topic(topic_number=0, number_of_documents=5)"
   ]
  },
  {
   "cell_type": "markdown",
   "id": "78bb827e",
   "metadata": {},
   "source": [
    "What would you label this topic?"
   ]
  },
  {
   "cell_type": "markdown",
   "id": "562b7da6",
   "metadata": {},
   "source": [
    "# Display Topic Words in Context"
   ]
  },
  {
   "cell_type": "code",
   "execution_count": null,
   "id": "1d467a92",
   "metadata": {},
   "outputs": [],
   "source": [
    "from IPython.display import Markdown, display\n",
    "import re\n",
    "\n",
    "def display_bolded_topic_words_in_context(topics=topics, topic_number=3, number_of_documents=3, custom_words=None):\n",
    "    \n",
    "    print(f\"🌟Topic {topic_number}🌟\\n\\n{topics[topic_number]}\\n\")\n",
    "    \n",
    "    for probability, document in little_mallet_wrapper.get_top_docs(training_data, topic_distributions, topic_number, n=number_of_documents):\n",
    "            \n",
    "        probability = f\"🌟🌟🌟\\n\\n**{probability}**\"\n",
    "        obit_title = f\"**{training_data_obit_titles[document]}**\"\n",
    "        original_text = training_data_original_text[document]\n",
    "        topic_words = topics[topic_number]\n",
    "        topic_words = custom_words if custom_words != None else topic_words\n",
    "        \n",
    "        for word in topic_words:\n",
    "            if word in original_text:\n",
    "                original_text = re.sub(f\"\\\\b{word}\\\\b\", f\"**{word}**\", original_text)\n",
    "        \n",
    "        display(Markdown(probability)), display(Markdown(obit_title)), display(Markdown(original_text))\n",
    "    return"
   ]
  },
  {
   "cell_type": "code",
   "execution_count": null,
   "id": "a02ead09",
   "metadata": {
    "scrolled": false
   },
   "outputs": [],
   "source": [
    "display_bolded_topic_words_in_context(topic_number=3, number_of_documents=3)"
   ]
  },
  {
   "cell_type": "code",
   "execution_count": null,
   "id": "bf936cd7",
   "metadata": {},
   "outputs": [],
   "source": []
  }
 ],
 "metadata": {
  "kernelspec": {
   "display_name": "Python [conda env:REL560] *",
   "language": "python",
   "name": "conda-env-REL560-py"
  },
  "language_info": {
   "codemirror_mode": {
    "name": "ipython",
    "version": 3
   },
   "file_extension": ".py",
   "mimetype": "text/x-python",
   "name": "python",
   "nbconvert_exporter": "python",
   "pygments_lexer": "ipython3",
   "version": "3.8.12"
  }
 },
 "nbformat": 4,
 "nbformat_minor": 5
}
