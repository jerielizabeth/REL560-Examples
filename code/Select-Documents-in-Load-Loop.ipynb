{
 "cells": [
  {
   "cell_type": "code",
   "execution_count": 1,
   "id": "51f62551",
   "metadata": {},
   "outputs": [],
   "source": [
    "import os\n",
    "import pandas as pd"
   ]
  },
  {
   "cell_type": "code",
   "execution_count": 3,
   "id": "5be6d4ca",
   "metadata": {},
   "outputs": [
    {
     "data": {
      "text/html": [
       "<div>\n",
       "<style scoped>\n",
       "    .dataframe tbody tr th:only-of-type {\n",
       "        vertical-align: middle;\n",
       "    }\n",
       "\n",
       "    .dataframe tbody tr th {\n",
       "        vertical-align: top;\n",
       "    }\n",
       "\n",
       "    .dataframe thead th {\n",
       "        text-align: right;\n",
       "    }\n",
       "</style>\n",
       "<table border=\"1\" class=\"dataframe\">\n",
       "  <thead>\n",
       "    <tr style=\"text-align: right;\">\n",
       "      <th></th>\n",
       "      <th>doc_id</th>\n",
       "      <th>text</th>\n",
       "    </tr>\n",
       "  </thead>\n",
       "  <tbody>\n",
       "    <tr>\n",
       "      <th>0</th>\n",
       "      <td>1936-Maxim-Gorky.txt</td>\n",
       "      <td>June 19, 1936\\n\\n OBITUARY\\n\\n Maxim Gorky Die...</td>\n",
       "    </tr>\n",
       "    <tr>\n",
       "      <th>1</th>\n",
       "      <td>1936-Anne-Macy.txt</td>\n",
       "      <td>October 21, 1936\\n\\n OBITUARY\\n\\n Mrs. Macy Is...</td>\n",
       "    </tr>\n",
       "    <tr>\n",
       "      <th>2</th>\n",
       "      <td>1936-John-W-Heisman.txt</td>\n",
       "      <td>October 4, 1936\\n\\n OBITUARY\\n\\n John W. Heism...</td>\n",
       "    </tr>\n",
       "  </tbody>\n",
       "</table>\n",
       "</div>"
      ],
      "text/plain": [
       "                    doc_id                                               text\n",
       "0     1936-Maxim-Gorky.txt  June 19, 1936\\n\\n OBITUARY\\n\\n Maxim Gorky Die...\n",
       "1       1936-Anne-Macy.txt  October 21, 1936\\n\\n OBITUARY\\n\\n Mrs. Macy Is...\n",
       "2  1936-John-W-Heisman.txt  October 4, 1936\\n\\n OBITUARY\\n\\n John W. Heism..."
      ]
     },
     "execution_count": 3,
     "metadata": {},
     "output_type": "execute_result"
    }
   ],
   "source": [
    "# Load texts into a dataframe\n",
    "\n",
    "source_dir = \"../data/Example_texts/history/NYT-Obituaries/\"\n",
    "\n",
    "texts = []\n",
    "\n",
    "for filename in os.listdir(source_dir):\n",
    "    if filename.startswith('.'):\n",
    "        pass\n",
    "    # Get obits from 1936:\n",
    "    elif \"1Timothy\" in filename:\n",
    "        with open(os.path.join(source_dir, filename), 'r') as obit:\n",
    "            content = obit.read()\n",
    "        texts.append(\n",
    "            {\n",
    "                \"doc_id\": filename,\n",
    "                \"text\": content\n",
    "            }\n",
    "        )\n",
    "    else:\n",
    "        pass\n",
    "\n",
    "texts_df = pd.DataFrame(texts)\n",
    "\n",
    "texts_df.head()"
   ]
  },
  {
   "cell_type": "code",
   "execution_count": null,
   "id": "0d7d2982",
   "metadata": {},
   "outputs": [],
   "source": []
  },
  {
   "cell_type": "code",
   "execution_count": null,
   "id": "c6f7139f",
   "metadata": {},
   "outputs": [],
   "source": []
  }
 ],
 "metadata": {
  "kernelspec": {
   "display_name": "Python [conda env:REL560] *",
   "language": "python",
   "name": "conda-env-REL560-py"
  },
  "language_info": {
   "codemirror_mode": {
    "name": "ipython",
    "version": 3
   },
   "file_extension": ".py",
   "mimetype": "text/x-python",
   "name": "python",
   "nbconvert_exporter": "python",
   "pygments_lexer": "ipython3",
   "version": "3.8.12"
  }
 },
 "nbformat": 4,
 "nbformat_minor": 5
}
